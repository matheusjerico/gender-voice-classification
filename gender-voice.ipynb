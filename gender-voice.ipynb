{
 "cells": [
  {
   "cell_type": "markdown",
   "metadata": {},
   "source": [
    "# Trabalho Final"
   ]
  },
  {
   "cell_type": "markdown",
   "metadata": {},
   "source": [
    "**Autor**: Matheus Jericó Palhares <br>\n",
    "**LinkedIn**: https://linkedin.com/in/matheusjerico"
   ]
  },
  {
   "cell_type": "markdown",
   "metadata": {},
   "source": [
    "### Dataset - Gender Recognition by Voice\n",
    "**Link**:<br> https://www.kaggle.com/mlg-ulb/creditcardfraud\n",
    "\n",
    "**Contexto**: <br>\n",
    "Esse dataset foi criado com objetivo de identificar uma voz como masculina ou feminina, com base nas propriedades acústicas da voz e da fala. O Dataset consistem em 3168 registros de vozes, coletadas de falantes masculinos e femininos. As amostras de voz são pré-processadas por análise acústica em R usando os pacotes seewave e tuneR, com uma faixa de frequência analisada de 0hz-280hz (faixa vocal humana).\n",
    "\n",
    "**Conteúdo**:<br>\n",
    "Features do dataset:\n",
    "- meanfreq: mean frequency (in kHz)\n",
    "- sd: standard deviation of frequency\n",
    "- median: median frequency (in kHz)\n",
    "- Q25: first quantile (in kHz)\n",
    "- Q75: third quantile (in kHz)\n",
    "- IQR: interquantile range (in kHz)\n",
    "- skew: skewness (see note in specprop description)\n",
    "- kurt: kurtosis (see note in specprop description)\n",
    "- sp.ent: spectral entropy\n",
    "- sfm: spectral flatness\n",
    "- mode: mode frequency\n",
    "- centroid: frequency centroid (see specprop)\n",
    "- peakf: peak frequency (frequency with highest energy)\n",
    "- meanfun: average of fundamental frequency measured across acoustic signal\n",
    "- minfun: minimum fundamental frequency measured across acoustic signal\n",
    "- maxfun: maximum fundamental frequency measured across acoustic signal\n",
    "- meandom: average of dominant frequency measured across acoustic signal\n",
    "- mindom: minimum of dominant frequency measured across acoustic signal\n",
    "- maxdom: maximum of dominant frequency measured across acoustic signal\n",
    "- dfrange: range of dominant frequency measured across acoustic signal\n",
    "- modindx: modulation index. Calculated as the accumulated absolute difference between adjacent measurements of fundamental frequencies divided by the frequency range\n",
    "- label: male or female\n"
   ]
  },
  {
   "cell_type": "markdown",
   "metadata": {},
   "source": [
    "**Resolução**: <br>\n",
    "Para resolução do problema, utilizaremos algoritmos de aprendizagem supervisionada."
   ]
  },
  {
   "cell_type": "markdown",
   "metadata": {},
   "source": [
    "## 1. Carregando Bibliotecas"
   ]
  },
  {
   "cell_type": "code",
   "execution_count": 1,
   "metadata": {},
   "outputs": [],
   "source": [
    "from sklearn.model_selection import train_test_split \n",
    "from sklearn.preprocessing import StandardScaler\n",
    "from sklearn.metrics import confusion_matrix, roc_auc_score, recall_score, classification_report, f1_score, precision_score, accuracy_score\n",
    "from sklearn.model_selection import cross_val_score, KFold, train_test_split, GridSearchCV\n",
    "from sklearn.tree import DecisionTreeClassifier\n",
    "from sklearn.naive_bayes import GaussianNB\n",
    "from sklearn.linear_model import LogisticRegression\n",
    "from sklearn.svm import SVC\n",
    "from sklearn.ensemble import GradientBoostingClassifier, RandomForestClassifier, VotingClassifier\n",
    "from xgboost import XGBClassifier\n",
    "\n",
    "import matplotlib.pyplot as plt\n",
    "import pandas as pd \n",
    "import numpy as np\n",
    "import seaborn as sns\n",
    "from pandas_profiling import ProfileReport"
   ]
  },
  {
   "cell_type": "markdown",
   "metadata": {},
   "source": [
    "## 2. Carregando dados"
   ]
  },
  {
   "cell_type": "markdown",
   "metadata": {},
   "source": [
    "- Foi feito o donwload dos dados e inseridos no diretório ```/dataset```;\n",
    "- Utilizamos a biblioteca Pandas para carregar o dataset."
   ]
  },
  {
   "cell_type": "code",
   "execution_count": 2,
   "metadata": {},
   "outputs": [],
   "source": [
    "dataset = pd.read_csv(\"dataset/voice.csv\")"
   ]
  },
  {
   "cell_type": "code",
   "execution_count": 3,
   "metadata": {},
   "outputs": [
    {
     "name": "stdout",
     "output_type": "stream",
     "text": [
      "<class 'pandas.core.frame.DataFrame'>\n",
      "RangeIndex: 3168 entries, 0 to 3167\n",
      "Data columns (total 21 columns):\n",
      " #   Column    Non-Null Count  Dtype  \n",
      "---  ------    --------------  -----  \n",
      " 0   meanfreq  3168 non-null   float64\n",
      " 1   sd        3168 non-null   float64\n",
      " 2   median    3168 non-null   float64\n",
      " 3   Q25       3168 non-null   float64\n",
      " 4   Q75       3168 non-null   float64\n",
      " 5   IQR       3168 non-null   float64\n",
      " 6   skew      3168 non-null   float64\n",
      " 7   kurt      3168 non-null   float64\n",
      " 8   sp.ent    3168 non-null   float64\n",
      " 9   sfm       3168 non-null   float64\n",
      " 10  mode      3168 non-null   float64\n",
      " 11  centroid  3168 non-null   float64\n",
      " 12  meanfun   3168 non-null   float64\n",
      " 13  minfun    3168 non-null   float64\n",
      " 14  maxfun    3168 non-null   float64\n",
      " 15  meandom   3168 non-null   float64\n",
      " 16  mindom    3168 non-null   float64\n",
      " 17  maxdom    3168 non-null   float64\n",
      " 18  dfrange   3168 non-null   float64\n",
      " 19  modindx   3168 non-null   float64\n",
      " 20  label     3168 non-null   object \n",
      "dtypes: float64(20), object(1)\n",
      "memory usage: 519.9+ KB\n"
     ]
    }
   ],
   "source": [
    "dataset.info()"
   ]
  },
  {
   "cell_type": "markdown",
   "metadata": {},
   "source": [
    "**ANÁLISE**:\n",
    "- Dataset não possui valores NaN;\n",
    "- 20 variáveis;\n",
    "- Label é a coluna target;\n",
    "- Todos as variáveis independentes são numéricos."
   ]
  },
  {
   "cell_type": "code",
   "execution_count": 4,
   "metadata": {},
   "outputs": [
    {
     "data": {
      "text/html": [
       "<div>\n",
       "<style scoped>\n",
       "    .dataframe tbody tr th:only-of-type {\n",
       "        vertical-align: middle;\n",
       "    }\n",
       "\n",
       "    .dataframe tbody tr th {\n",
       "        vertical-align: top;\n",
       "    }\n",
       "\n",
       "    .dataframe thead th {\n",
       "        text-align: right;\n",
       "    }\n",
       "</style>\n",
       "<table border=\"1\" class=\"dataframe\">\n",
       "  <thead>\n",
       "    <tr style=\"text-align: right;\">\n",
       "      <th></th>\n",
       "      <th>meanfreq</th>\n",
       "      <th>sd</th>\n",
       "      <th>median</th>\n",
       "      <th>Q25</th>\n",
       "      <th>Q75</th>\n",
       "      <th>IQR</th>\n",
       "      <th>skew</th>\n",
       "      <th>kurt</th>\n",
       "      <th>sp.ent</th>\n",
       "      <th>sfm</th>\n",
       "      <th>mode</th>\n",
       "      <th>centroid</th>\n",
       "      <th>meanfun</th>\n",
       "      <th>minfun</th>\n",
       "      <th>maxfun</th>\n",
       "      <th>meandom</th>\n",
       "      <th>mindom</th>\n",
       "      <th>maxdom</th>\n",
       "      <th>dfrange</th>\n",
       "      <th>modindx</th>\n",
       "    </tr>\n",
       "  </thead>\n",
       "  <tbody>\n",
       "    <tr>\n",
       "      <th>count</th>\n",
       "      <td>3168.000000</td>\n",
       "      <td>3168.000000</td>\n",
       "      <td>3168.000000</td>\n",
       "      <td>3168.000000</td>\n",
       "      <td>3168.000000</td>\n",
       "      <td>3168.000000</td>\n",
       "      <td>3168.000000</td>\n",
       "      <td>3168.000000</td>\n",
       "      <td>3168.000000</td>\n",
       "      <td>3168.000000</td>\n",
       "      <td>3168.000000</td>\n",
       "      <td>3168.000000</td>\n",
       "      <td>3168.000000</td>\n",
       "      <td>3168.000000</td>\n",
       "      <td>3168.000000</td>\n",
       "      <td>3168.000000</td>\n",
       "      <td>3168.000000</td>\n",
       "      <td>3168.000000</td>\n",
       "      <td>3168.000000</td>\n",
       "      <td>3168.000000</td>\n",
       "    </tr>\n",
       "    <tr>\n",
       "      <th>mean</th>\n",
       "      <td>0.180907</td>\n",
       "      <td>0.057126</td>\n",
       "      <td>0.185621</td>\n",
       "      <td>0.140456</td>\n",
       "      <td>0.224765</td>\n",
       "      <td>0.084309</td>\n",
       "      <td>3.140168</td>\n",
       "      <td>36.568461</td>\n",
       "      <td>0.895127</td>\n",
       "      <td>0.408216</td>\n",
       "      <td>0.165282</td>\n",
       "      <td>0.180907</td>\n",
       "      <td>0.142807</td>\n",
       "      <td>0.036802</td>\n",
       "      <td>0.258842</td>\n",
       "      <td>0.829211</td>\n",
       "      <td>0.052647</td>\n",
       "      <td>5.047277</td>\n",
       "      <td>4.994630</td>\n",
       "      <td>0.173752</td>\n",
       "    </tr>\n",
       "    <tr>\n",
       "      <th>std</th>\n",
       "      <td>0.029918</td>\n",
       "      <td>0.016652</td>\n",
       "      <td>0.036360</td>\n",
       "      <td>0.048680</td>\n",
       "      <td>0.023639</td>\n",
       "      <td>0.042783</td>\n",
       "      <td>4.240529</td>\n",
       "      <td>134.928661</td>\n",
       "      <td>0.044980</td>\n",
       "      <td>0.177521</td>\n",
       "      <td>0.077203</td>\n",
       "      <td>0.029918</td>\n",
       "      <td>0.032304</td>\n",
       "      <td>0.019220</td>\n",
       "      <td>0.030077</td>\n",
       "      <td>0.525205</td>\n",
       "      <td>0.063299</td>\n",
       "      <td>3.521157</td>\n",
       "      <td>3.520039</td>\n",
       "      <td>0.119454</td>\n",
       "    </tr>\n",
       "    <tr>\n",
       "      <th>min</th>\n",
       "      <td>0.039363</td>\n",
       "      <td>0.018363</td>\n",
       "      <td>0.010975</td>\n",
       "      <td>0.000229</td>\n",
       "      <td>0.042946</td>\n",
       "      <td>0.014558</td>\n",
       "      <td>0.141735</td>\n",
       "      <td>2.068455</td>\n",
       "      <td>0.738651</td>\n",
       "      <td>0.036876</td>\n",
       "      <td>0.000000</td>\n",
       "      <td>0.039363</td>\n",
       "      <td>0.055565</td>\n",
       "      <td>0.009775</td>\n",
       "      <td>0.103093</td>\n",
       "      <td>0.007812</td>\n",
       "      <td>0.004883</td>\n",
       "      <td>0.007812</td>\n",
       "      <td>0.000000</td>\n",
       "      <td>0.000000</td>\n",
       "    </tr>\n",
       "    <tr>\n",
       "      <th>25%</th>\n",
       "      <td>0.163662</td>\n",
       "      <td>0.041954</td>\n",
       "      <td>0.169593</td>\n",
       "      <td>0.111087</td>\n",
       "      <td>0.208747</td>\n",
       "      <td>0.042560</td>\n",
       "      <td>1.649569</td>\n",
       "      <td>5.669547</td>\n",
       "      <td>0.861811</td>\n",
       "      <td>0.258041</td>\n",
       "      <td>0.118016</td>\n",
       "      <td>0.163662</td>\n",
       "      <td>0.116998</td>\n",
       "      <td>0.018223</td>\n",
       "      <td>0.253968</td>\n",
       "      <td>0.419828</td>\n",
       "      <td>0.007812</td>\n",
       "      <td>2.070312</td>\n",
       "      <td>2.044922</td>\n",
       "      <td>0.099766</td>\n",
       "    </tr>\n",
       "    <tr>\n",
       "      <th>50%</th>\n",
       "      <td>0.184838</td>\n",
       "      <td>0.059155</td>\n",
       "      <td>0.190032</td>\n",
       "      <td>0.140286</td>\n",
       "      <td>0.225684</td>\n",
       "      <td>0.094280</td>\n",
       "      <td>2.197101</td>\n",
       "      <td>8.318463</td>\n",
       "      <td>0.901767</td>\n",
       "      <td>0.396335</td>\n",
       "      <td>0.186599</td>\n",
       "      <td>0.184838</td>\n",
       "      <td>0.140519</td>\n",
       "      <td>0.046110</td>\n",
       "      <td>0.271186</td>\n",
       "      <td>0.765795</td>\n",
       "      <td>0.023438</td>\n",
       "      <td>4.992188</td>\n",
       "      <td>4.945312</td>\n",
       "      <td>0.139357</td>\n",
       "    </tr>\n",
       "    <tr>\n",
       "      <th>75%</th>\n",
       "      <td>0.199146</td>\n",
       "      <td>0.067020</td>\n",
       "      <td>0.210618</td>\n",
       "      <td>0.175939</td>\n",
       "      <td>0.243660</td>\n",
       "      <td>0.114175</td>\n",
       "      <td>2.931694</td>\n",
       "      <td>13.648905</td>\n",
       "      <td>0.928713</td>\n",
       "      <td>0.533676</td>\n",
       "      <td>0.221104</td>\n",
       "      <td>0.199146</td>\n",
       "      <td>0.169581</td>\n",
       "      <td>0.047904</td>\n",
       "      <td>0.277457</td>\n",
       "      <td>1.177166</td>\n",
       "      <td>0.070312</td>\n",
       "      <td>7.007812</td>\n",
       "      <td>6.992188</td>\n",
       "      <td>0.209183</td>\n",
       "    </tr>\n",
       "    <tr>\n",
       "      <th>max</th>\n",
       "      <td>0.251124</td>\n",
       "      <td>0.115273</td>\n",
       "      <td>0.261224</td>\n",
       "      <td>0.247347</td>\n",
       "      <td>0.273469</td>\n",
       "      <td>0.252225</td>\n",
       "      <td>34.725453</td>\n",
       "      <td>1309.612887</td>\n",
       "      <td>0.981997</td>\n",
       "      <td>0.842936</td>\n",
       "      <td>0.280000</td>\n",
       "      <td>0.251124</td>\n",
       "      <td>0.237636</td>\n",
       "      <td>0.204082</td>\n",
       "      <td>0.279114</td>\n",
       "      <td>2.957682</td>\n",
       "      <td>0.458984</td>\n",
       "      <td>21.867188</td>\n",
       "      <td>21.843750</td>\n",
       "      <td>0.932374</td>\n",
       "    </tr>\n",
       "  </tbody>\n",
       "</table>\n",
       "</div>"
      ],
      "text/plain": [
       "          meanfreq           sd       median          Q25          Q75  \\\n",
       "count  3168.000000  3168.000000  3168.000000  3168.000000  3168.000000   \n",
       "mean      0.180907     0.057126     0.185621     0.140456     0.224765   \n",
       "std       0.029918     0.016652     0.036360     0.048680     0.023639   \n",
       "min       0.039363     0.018363     0.010975     0.000229     0.042946   \n",
       "25%       0.163662     0.041954     0.169593     0.111087     0.208747   \n",
       "50%       0.184838     0.059155     0.190032     0.140286     0.225684   \n",
       "75%       0.199146     0.067020     0.210618     0.175939     0.243660   \n",
       "max       0.251124     0.115273     0.261224     0.247347     0.273469   \n",
       "\n",
       "               IQR         skew         kurt       sp.ent          sfm  \\\n",
       "count  3168.000000  3168.000000  3168.000000  3168.000000  3168.000000   \n",
       "mean      0.084309     3.140168    36.568461     0.895127     0.408216   \n",
       "std       0.042783     4.240529   134.928661     0.044980     0.177521   \n",
       "min       0.014558     0.141735     2.068455     0.738651     0.036876   \n",
       "25%       0.042560     1.649569     5.669547     0.861811     0.258041   \n",
       "50%       0.094280     2.197101     8.318463     0.901767     0.396335   \n",
       "75%       0.114175     2.931694    13.648905     0.928713     0.533676   \n",
       "max       0.252225    34.725453  1309.612887     0.981997     0.842936   \n",
       "\n",
       "              mode     centroid      meanfun       minfun       maxfun  \\\n",
       "count  3168.000000  3168.000000  3168.000000  3168.000000  3168.000000   \n",
       "mean      0.165282     0.180907     0.142807     0.036802     0.258842   \n",
       "std       0.077203     0.029918     0.032304     0.019220     0.030077   \n",
       "min       0.000000     0.039363     0.055565     0.009775     0.103093   \n",
       "25%       0.118016     0.163662     0.116998     0.018223     0.253968   \n",
       "50%       0.186599     0.184838     0.140519     0.046110     0.271186   \n",
       "75%       0.221104     0.199146     0.169581     0.047904     0.277457   \n",
       "max       0.280000     0.251124     0.237636     0.204082     0.279114   \n",
       "\n",
       "           meandom       mindom       maxdom      dfrange      modindx  \n",
       "count  3168.000000  3168.000000  3168.000000  3168.000000  3168.000000  \n",
       "mean      0.829211     0.052647     5.047277     4.994630     0.173752  \n",
       "std       0.525205     0.063299     3.521157     3.520039     0.119454  \n",
       "min       0.007812     0.004883     0.007812     0.000000     0.000000  \n",
       "25%       0.419828     0.007812     2.070312     2.044922     0.099766  \n",
       "50%       0.765795     0.023438     4.992188     4.945312     0.139357  \n",
       "75%       1.177166     0.070312     7.007812     6.992188     0.209183  \n",
       "max       2.957682     0.458984    21.867188    21.843750     0.932374  "
      ]
     },
     "execution_count": 4,
     "metadata": {},
     "output_type": "execute_result"
    }
   ],
   "source": [
    "dataset.describe()"
   ]
  },
  {
   "cell_type": "markdown",
   "metadata": {},
   "source": [
    "**ANÁLISE**:\n",
    "- Os dados já foram pre processados."
   ]
  },
  {
   "cell_type": "markdown",
   "metadata": {},
   "source": [
    "## 3. Exploração dos dados"
   ]
  },
  {
   "cell_type": "code",
   "execution_count": 5,
   "metadata": {},
   "outputs": [
    {
     "name": "stdout",
     "output_type": "stream",
     "text": [
      "Valores únicos da label: ['male' 'female']\n"
     ]
    }
   ],
   "source": [
    "print(f\"Valores únicos da label: {dataset.label.unique()}\")"
   ]
  },
  {
   "cell_type": "code",
   "execution_count": 6,
   "metadata": {},
   "outputs": [
    {
     "name": "stdout",
     "output_type": "stream",
     "text": [
      "Divisão dos dados:\n",
      "Male: 50.0%.\n",
      "Female: 50.0%.\n"
     ]
    }
   ],
   "source": [
    "print(\"Divisão dos dados:\")\n",
    "print(f\"Male: {round(dataset['label'].value_counts()[0]/len(dataset) * 100,2)}%.\")\n",
    "print(f\"Female: {round(dataset['label'].value_counts()[1]/len(dataset) * 100,2)}%.\")"
   ]
  },
  {
   "cell_type": "markdown",
   "metadata": {},
   "source": [
    "**ANÁLISE**:\n",
    "- O dataset é balanceado e pre processado."
   ]
  },
  {
   "cell_type": "markdown",
   "metadata": {},
   "source": [
    "### 3.1. Existe diferência entre as vozes masculinas e femininas?"
   ]
  },
  {
   "cell_type": "code",
   "execution_count": 7,
   "metadata": {},
   "outputs": [],
   "source": [
    "male = dataset[dataset['label'] == 'male']\n",
    "female = dataset[dataset['label'] == 'female']"
   ]
  },
  {
   "cell_type": "code",
   "execution_count": 8,
   "metadata": {},
   "outputs": [
    {
     "data": {
      "text/html": [
       "<div>\n",
       "<style scoped>\n",
       "    .dataframe tbody tr th:only-of-type {\n",
       "        vertical-align: middle;\n",
       "    }\n",
       "\n",
       "    .dataframe tbody tr th {\n",
       "        vertical-align: top;\n",
       "    }\n",
       "\n",
       "    .dataframe thead th {\n",
       "        text-align: right;\n",
       "    }\n",
       "</style>\n",
       "<table border=\"1\" class=\"dataframe\">\n",
       "  <thead>\n",
       "    <tr style=\"text-align: right;\">\n",
       "      <th></th>\n",
       "      <th>meanfreq</th>\n",
       "      <th>sd</th>\n",
       "      <th>median</th>\n",
       "      <th>Q25</th>\n",
       "      <th>Q75</th>\n",
       "      <th>IQR</th>\n",
       "      <th>skew</th>\n",
       "      <th>kurt</th>\n",
       "      <th>sp.ent</th>\n",
       "      <th>sfm</th>\n",
       "      <th>mode</th>\n",
       "      <th>centroid</th>\n",
       "      <th>meanfun</th>\n",
       "      <th>minfun</th>\n",
       "      <th>maxfun</th>\n",
       "      <th>meandom</th>\n",
       "      <th>mindom</th>\n",
       "      <th>maxdom</th>\n",
       "      <th>dfrange</th>\n",
       "      <th>modindx</th>\n",
       "    </tr>\n",
       "  </thead>\n",
       "  <tbody>\n",
       "    <tr>\n",
       "      <th>count</th>\n",
       "      <td>1584.000000</td>\n",
       "      <td>1584.000000</td>\n",
       "      <td>1584.000000</td>\n",
       "      <td>1584.000000</td>\n",
       "      <td>1584.000000</td>\n",
       "      <td>1584.000000</td>\n",
       "      <td>1584.000000</td>\n",
       "      <td>1584.000000</td>\n",
       "      <td>1584.000000</td>\n",
       "      <td>1584.000000</td>\n",
       "      <td>1584.000000</td>\n",
       "      <td>1584.000000</td>\n",
       "      <td>1584.000000</td>\n",
       "      <td>1584.000000</td>\n",
       "      <td>1584.000000</td>\n",
       "      <td>1584.000000</td>\n",
       "      <td>1584.000000</td>\n",
       "      <td>1584.000000</td>\n",
       "      <td>1584.000000</td>\n",
       "      <td>1584.000000</td>\n",
       "    </tr>\n",
       "    <tr>\n",
       "      <th>mean</th>\n",
       "      <td>0.170813</td>\n",
       "      <td>0.065110</td>\n",
       "      <td>0.175299</td>\n",
       "      <td>0.115562</td>\n",
       "      <td>0.226346</td>\n",
       "      <td>0.110784</td>\n",
       "      <td>3.295460</td>\n",
       "      <td>48.331698</td>\n",
       "      <td>0.917188</td>\n",
       "      <td>0.471670</td>\n",
       "      <td>0.152022</td>\n",
       "      <td>0.170813</td>\n",
       "      <td>0.115872</td>\n",
       "      <td>0.034175</td>\n",
       "      <td>0.253836</td>\n",
       "      <td>0.728877</td>\n",
       "      <td>0.040307</td>\n",
       "      <td>4.358447</td>\n",
       "      <td>4.318139</td>\n",
       "      <td>0.177430</td>\n",
       "    </tr>\n",
       "    <tr>\n",
       "      <th>std</th>\n",
       "      <td>0.026254</td>\n",
       "      <td>0.009455</td>\n",
       "      <td>0.037392</td>\n",
       "      <td>0.031999</td>\n",
       "      <td>0.024050</td>\n",
       "      <td>0.020415</td>\n",
       "      <td>5.135190</td>\n",
       "      <td>163.115940</td>\n",
       "      <td>0.028938</td>\n",
       "      <td>0.150473</td>\n",
       "      <td>0.084024</td>\n",
       "      <td>0.026254</td>\n",
       "      <td>0.017179</td>\n",
       "      <td>0.015749</td>\n",
       "      <td>0.036003</td>\n",
       "      <td>0.445997</td>\n",
       "      <td>0.049199</td>\n",
       "      <td>3.000285</td>\n",
       "      <td>3.000605</td>\n",
       "      <td>0.130132</td>\n",
       "    </tr>\n",
       "    <tr>\n",
       "      <th>min</th>\n",
       "      <td>0.039363</td>\n",
       "      <td>0.041747</td>\n",
       "      <td>0.010975</td>\n",
       "      <td>0.000240</td>\n",
       "      <td>0.042946</td>\n",
       "      <td>0.021841</td>\n",
       "      <td>0.326033</td>\n",
       "      <td>2.068455</td>\n",
       "      <td>0.786650</td>\n",
       "      <td>0.080963</td>\n",
       "      <td>0.000000</td>\n",
       "      <td>0.039363</td>\n",
       "      <td>0.055565</td>\n",
       "      <td>0.010953</td>\n",
       "      <td>0.103093</td>\n",
       "      <td>0.007812</td>\n",
       "      <td>0.004883</td>\n",
       "      <td>0.007812</td>\n",
       "      <td>0.000000</td>\n",
       "      <td>0.000000</td>\n",
       "    </tr>\n",
       "    <tr>\n",
       "      <th>25%</th>\n",
       "      <td>0.155625</td>\n",
       "      <td>0.058957</td>\n",
       "      <td>0.149952</td>\n",
       "      <td>0.101205</td>\n",
       "      <td>0.211918</td>\n",
       "      <td>0.100960</td>\n",
       "      <td>1.461931</td>\n",
       "      <td>5.003020</td>\n",
       "      <td>0.899557</td>\n",
       "      <td>0.363316</td>\n",
       "      <td>0.098914</td>\n",
       "      <td>0.155625</td>\n",
       "      <td>0.104171</td>\n",
       "      <td>0.017719</td>\n",
       "      <td>0.246154</td>\n",
       "      <td>0.399170</td>\n",
       "      <td>0.007812</td>\n",
       "      <td>1.759766</td>\n",
       "      <td>1.751953</td>\n",
       "      <td>0.099184</td>\n",
       "    </tr>\n",
       "    <tr>\n",
       "      <th>50%</th>\n",
       "      <td>0.176343</td>\n",
       "      <td>0.061781</td>\n",
       "      <td>0.180612</td>\n",
       "      <td>0.122315</td>\n",
       "      <td>0.228117</td>\n",
       "      <td>0.109940</td>\n",
       "      <td>1.880420</td>\n",
       "      <td>6.970088</td>\n",
       "      <td>0.917309</td>\n",
       "      <td>0.461636</td>\n",
       "      <td>0.157557</td>\n",
       "      <td>0.176343</td>\n",
       "      <td>0.117254</td>\n",
       "      <td>0.036166</td>\n",
       "      <td>0.271186</td>\n",
       "      <td>0.686687</td>\n",
       "      <td>0.023438</td>\n",
       "      <td>4.457031</td>\n",
       "      <td>4.429688</td>\n",
       "      <td>0.139904</td>\n",
       "    </tr>\n",
       "    <tr>\n",
       "      <th>75%</th>\n",
       "      <td>0.190593</td>\n",
       "      <td>0.070915</td>\n",
       "      <td>0.202362</td>\n",
       "      <td>0.136044</td>\n",
       "      <td>0.244819</td>\n",
       "      <td>0.119331</td>\n",
       "      <td>2.645467</td>\n",
       "      <td>12.282596</td>\n",
       "      <td>0.936048</td>\n",
       "      <td>0.576902</td>\n",
       "      <td>0.228117</td>\n",
       "      <td>0.190593</td>\n",
       "      <td>0.128236</td>\n",
       "      <td>0.047572</td>\n",
       "      <td>0.277457</td>\n",
       "      <td>1.032536</td>\n",
       "      <td>0.031250</td>\n",
       "      <td>6.035156</td>\n",
       "      <td>6.000000</td>\n",
       "      <td>0.212205</td>\n",
       "    </tr>\n",
       "    <tr>\n",
       "      <th>max</th>\n",
       "      <td>0.225582</td>\n",
       "      <td>0.096030</td>\n",
       "      <td>0.248840</td>\n",
       "      <td>0.226740</td>\n",
       "      <td>0.268924</td>\n",
       "      <td>0.196168</td>\n",
       "      <td>34.537488</td>\n",
       "      <td>1271.353628</td>\n",
       "      <td>0.981997</td>\n",
       "      <td>0.831347</td>\n",
       "      <td>0.280000</td>\n",
       "      <td>0.225582</td>\n",
       "      <td>0.179051</td>\n",
       "      <td>0.121212</td>\n",
       "      <td>0.279070</td>\n",
       "      <td>2.805246</td>\n",
       "      <td>0.458984</td>\n",
       "      <td>21.867188</td>\n",
       "      <td>21.843750</td>\n",
       "      <td>0.932374</td>\n",
       "    </tr>\n",
       "  </tbody>\n",
       "</table>\n",
       "</div>"
      ],
      "text/plain": [
       "          meanfreq           sd       median          Q25          Q75  \\\n",
       "count  1584.000000  1584.000000  1584.000000  1584.000000  1584.000000   \n",
       "mean      0.170813     0.065110     0.175299     0.115562     0.226346   \n",
       "std       0.026254     0.009455     0.037392     0.031999     0.024050   \n",
       "min       0.039363     0.041747     0.010975     0.000240     0.042946   \n",
       "25%       0.155625     0.058957     0.149952     0.101205     0.211918   \n",
       "50%       0.176343     0.061781     0.180612     0.122315     0.228117   \n",
       "75%       0.190593     0.070915     0.202362     0.136044     0.244819   \n",
       "max       0.225582     0.096030     0.248840     0.226740     0.268924   \n",
       "\n",
       "               IQR         skew         kurt       sp.ent          sfm  \\\n",
       "count  1584.000000  1584.000000  1584.000000  1584.000000  1584.000000   \n",
       "mean      0.110784     3.295460    48.331698     0.917188     0.471670   \n",
       "std       0.020415     5.135190   163.115940     0.028938     0.150473   \n",
       "min       0.021841     0.326033     2.068455     0.786650     0.080963   \n",
       "25%       0.100960     1.461931     5.003020     0.899557     0.363316   \n",
       "50%       0.109940     1.880420     6.970088     0.917309     0.461636   \n",
       "75%       0.119331     2.645467    12.282596     0.936048     0.576902   \n",
       "max       0.196168    34.537488  1271.353628     0.981997     0.831347   \n",
       "\n",
       "              mode     centroid      meanfun       minfun       maxfun  \\\n",
       "count  1584.000000  1584.000000  1584.000000  1584.000000  1584.000000   \n",
       "mean      0.152022     0.170813     0.115872     0.034175     0.253836   \n",
       "std       0.084024     0.026254     0.017179     0.015749     0.036003   \n",
       "min       0.000000     0.039363     0.055565     0.010953     0.103093   \n",
       "25%       0.098914     0.155625     0.104171     0.017719     0.246154   \n",
       "50%       0.157557     0.176343     0.117254     0.036166     0.271186   \n",
       "75%       0.228117     0.190593     0.128236     0.047572     0.277457   \n",
       "max       0.280000     0.225582     0.179051     0.121212     0.279070   \n",
       "\n",
       "           meandom       mindom       maxdom      dfrange      modindx  \n",
       "count  1584.000000  1584.000000  1584.000000  1584.000000  1584.000000  \n",
       "mean      0.728877     0.040307     4.358447     4.318139     0.177430  \n",
       "std       0.445997     0.049199     3.000285     3.000605     0.130132  \n",
       "min       0.007812     0.004883     0.007812     0.000000     0.000000  \n",
       "25%       0.399170     0.007812     1.759766     1.751953     0.099184  \n",
       "50%       0.686687     0.023438     4.457031     4.429688     0.139904  \n",
       "75%       1.032536     0.031250     6.035156     6.000000     0.212205  \n",
       "max       2.805246     0.458984    21.867188    21.843750     0.932374  "
      ]
     },
     "execution_count": 8,
     "metadata": {},
     "output_type": "execute_result"
    }
   ],
   "source": [
    "male.describe()"
   ]
  },
  {
   "cell_type": "code",
   "execution_count": 9,
   "metadata": {},
   "outputs": [
    {
     "data": {
      "text/html": [
       "<div>\n",
       "<style scoped>\n",
       "    .dataframe tbody tr th:only-of-type {\n",
       "        vertical-align: middle;\n",
       "    }\n",
       "\n",
       "    .dataframe tbody tr th {\n",
       "        vertical-align: top;\n",
       "    }\n",
       "\n",
       "    .dataframe thead th {\n",
       "        text-align: right;\n",
       "    }\n",
       "</style>\n",
       "<table border=\"1\" class=\"dataframe\">\n",
       "  <thead>\n",
       "    <tr style=\"text-align: right;\">\n",
       "      <th></th>\n",
       "      <th>meanfreq</th>\n",
       "      <th>sd</th>\n",
       "      <th>median</th>\n",
       "      <th>Q25</th>\n",
       "      <th>Q75</th>\n",
       "      <th>IQR</th>\n",
       "      <th>skew</th>\n",
       "      <th>kurt</th>\n",
       "      <th>sp.ent</th>\n",
       "      <th>sfm</th>\n",
       "      <th>mode</th>\n",
       "      <th>centroid</th>\n",
       "      <th>meanfun</th>\n",
       "      <th>minfun</th>\n",
       "      <th>maxfun</th>\n",
       "      <th>meandom</th>\n",
       "      <th>mindom</th>\n",
       "      <th>maxdom</th>\n",
       "      <th>dfrange</th>\n",
       "      <th>modindx</th>\n",
       "    </tr>\n",
       "  </thead>\n",
       "  <tbody>\n",
       "    <tr>\n",
       "      <th>count</th>\n",
       "      <td>1584.000000</td>\n",
       "      <td>1584.000000</td>\n",
       "      <td>1584.000000</td>\n",
       "      <td>1584.000000</td>\n",
       "      <td>1584.000000</td>\n",
       "      <td>1584.000000</td>\n",
       "      <td>1584.000000</td>\n",
       "      <td>1584.000000</td>\n",
       "      <td>1584.000000</td>\n",
       "      <td>1584.000000</td>\n",
       "      <td>1584.000000</td>\n",
       "      <td>1584.000000</td>\n",
       "      <td>1584.000000</td>\n",
       "      <td>1584.000000</td>\n",
       "      <td>1584.000000</td>\n",
       "      <td>1584.000000</td>\n",
       "      <td>1584.000000</td>\n",
       "      <td>1584.000000</td>\n",
       "      <td>1584.000000</td>\n",
       "      <td>1584.000000</td>\n",
       "    </tr>\n",
       "    <tr>\n",
       "      <th>mean</th>\n",
       "      <td>0.191000</td>\n",
       "      <td>0.049142</td>\n",
       "      <td>0.195942</td>\n",
       "      <td>0.165349</td>\n",
       "      <td>0.223184</td>\n",
       "      <td>0.057834</td>\n",
       "      <td>2.984875</td>\n",
       "      <td>24.805224</td>\n",
       "      <td>0.873066</td>\n",
       "      <td>0.344763</td>\n",
       "      <td>0.178541</td>\n",
       "      <td>0.191000</td>\n",
       "      <td>0.169742</td>\n",
       "      <td>0.039429</td>\n",
       "      <td>0.263848</td>\n",
       "      <td>0.929544</td>\n",
       "      <td>0.064987</td>\n",
       "      <td>5.736107</td>\n",
       "      <td>5.671120</td>\n",
       "      <td>0.170073</td>\n",
       "    </tr>\n",
       "    <tr>\n",
       "      <th>std</th>\n",
       "      <td>0.029960</td>\n",
       "      <td>0.018380</td>\n",
       "      <td>0.032149</td>\n",
       "      <td>0.049767</td>\n",
       "      <td>0.023121</td>\n",
       "      <td>0.042924</td>\n",
       "      <td>3.091454</td>\n",
       "      <td>97.669114</td>\n",
       "      <td>0.047288</td>\n",
       "      <td>0.179854</td>\n",
       "      <td>0.067175</td>\n",
       "      <td>0.029960</td>\n",
       "      <td>0.018460</td>\n",
       "      <td>0.021845</td>\n",
       "      <td>0.021529</td>\n",
       "      <td>0.576884</td>\n",
       "      <td>0.072739</td>\n",
       "      <td>3.854042</td>\n",
       "      <td>3.856124</td>\n",
       "      <td>0.107639</td>\n",
       "    </tr>\n",
       "    <tr>\n",
       "      <th>min</th>\n",
       "      <td>0.078847</td>\n",
       "      <td>0.018363</td>\n",
       "      <td>0.035114</td>\n",
       "      <td>0.000229</td>\n",
       "      <td>0.127637</td>\n",
       "      <td>0.014558</td>\n",
       "      <td>0.141735</td>\n",
       "      <td>2.209673</td>\n",
       "      <td>0.738651</td>\n",
       "      <td>0.036876</td>\n",
       "      <td>0.000000</td>\n",
       "      <td>0.078847</td>\n",
       "      <td>0.091912</td>\n",
       "      <td>0.009775</td>\n",
       "      <td>0.163934</td>\n",
       "      <td>0.007812</td>\n",
       "      <td>0.004883</td>\n",
       "      <td>0.007812</td>\n",
       "      <td>0.000000</td>\n",
       "      <td>0.000000</td>\n",
       "    </tr>\n",
       "    <tr>\n",
       "      <th>25%</th>\n",
       "      <td>0.177031</td>\n",
       "      <td>0.034977</td>\n",
       "      <td>0.181021</td>\n",
       "      <td>0.157892</td>\n",
       "      <td>0.206280</td>\n",
       "      <td>0.031106</td>\n",
       "      <td>1.962717</td>\n",
       "      <td>6.764500</td>\n",
       "      <td>0.839784</td>\n",
       "      <td>0.208125</td>\n",
       "      <td>0.168883</td>\n",
       "      <td>0.177031</td>\n",
       "      <td>0.157395</td>\n",
       "      <td>0.019116</td>\n",
       "      <td>0.258065</td>\n",
       "      <td>0.450566</td>\n",
       "      <td>0.023438</td>\n",
       "      <td>2.560547</td>\n",
       "      <td>2.435547</td>\n",
       "      <td>0.101201</td>\n",
       "    </tr>\n",
       "    <tr>\n",
       "      <th>50%</th>\n",
       "      <td>0.192732</td>\n",
       "      <td>0.041965</td>\n",
       "      <td>0.198226</td>\n",
       "      <td>0.175373</td>\n",
       "      <td>0.223744</td>\n",
       "      <td>0.042689</td>\n",
       "      <td>2.435808</td>\n",
       "      <td>9.607635</td>\n",
       "      <td>0.865861</td>\n",
       "      <td>0.277228</td>\n",
       "      <td>0.193670</td>\n",
       "      <td>0.192732</td>\n",
       "      <td>0.169408</td>\n",
       "      <td>0.047013</td>\n",
       "      <td>0.274286</td>\n",
       "      <td>0.867405</td>\n",
       "      <td>0.023438</td>\n",
       "      <td>6.042969</td>\n",
       "      <td>5.964844</td>\n",
       "      <td>0.138995</td>\n",
       "    </tr>\n",
       "    <tr>\n",
       "      <th>75%</th>\n",
       "      <td>0.211981</td>\n",
       "      <td>0.060452</td>\n",
       "      <td>0.216214</td>\n",
       "      <td>0.195243</td>\n",
       "      <td>0.241486</td>\n",
       "      <td>0.061268</td>\n",
       "      <td>3.086396</td>\n",
       "      <td>14.448639</td>\n",
       "      <td>0.908557</td>\n",
       "      <td>0.478122</td>\n",
       "      <td>0.218152</td>\n",
       "      <td>0.211981</td>\n",
       "      <td>0.181832</td>\n",
       "      <td>0.048534</td>\n",
       "      <td>0.277457</td>\n",
       "      <td>1.338521</td>\n",
       "      <td>0.140625</td>\n",
       "      <td>8.607422</td>\n",
       "      <td>8.531250</td>\n",
       "      <td>0.201557</td>\n",
       "    </tr>\n",
       "    <tr>\n",
       "      <th>max</th>\n",
       "      <td>0.251124</td>\n",
       "      <td>0.115273</td>\n",
       "      <td>0.261224</td>\n",
       "      <td>0.247347</td>\n",
       "      <td>0.273469</td>\n",
       "      <td>0.252225</td>\n",
       "      <td>34.725453</td>\n",
       "      <td>1309.612887</td>\n",
       "      <td>0.978482</td>\n",
       "      <td>0.842936</td>\n",
       "      <td>0.280000</td>\n",
       "      <td>0.251124</td>\n",
       "      <td>0.237636</td>\n",
       "      <td>0.204082</td>\n",
       "      <td>0.279114</td>\n",
       "      <td>2.957682</td>\n",
       "      <td>0.449219</td>\n",
       "      <td>21.796875</td>\n",
       "      <td>21.773438</td>\n",
       "      <td>0.857764</td>\n",
       "    </tr>\n",
       "  </tbody>\n",
       "</table>\n",
       "</div>"
      ],
      "text/plain": [
       "          meanfreq           sd       median          Q25          Q75  \\\n",
       "count  1584.000000  1584.000000  1584.000000  1584.000000  1584.000000   \n",
       "mean      0.191000     0.049142     0.195942     0.165349     0.223184   \n",
       "std       0.029960     0.018380     0.032149     0.049767     0.023121   \n",
       "min       0.078847     0.018363     0.035114     0.000229     0.127637   \n",
       "25%       0.177031     0.034977     0.181021     0.157892     0.206280   \n",
       "50%       0.192732     0.041965     0.198226     0.175373     0.223744   \n",
       "75%       0.211981     0.060452     0.216214     0.195243     0.241486   \n",
       "max       0.251124     0.115273     0.261224     0.247347     0.273469   \n",
       "\n",
       "               IQR         skew         kurt       sp.ent          sfm  \\\n",
       "count  1584.000000  1584.000000  1584.000000  1584.000000  1584.000000   \n",
       "mean      0.057834     2.984875    24.805224     0.873066     0.344763   \n",
       "std       0.042924     3.091454    97.669114     0.047288     0.179854   \n",
       "min       0.014558     0.141735     2.209673     0.738651     0.036876   \n",
       "25%       0.031106     1.962717     6.764500     0.839784     0.208125   \n",
       "50%       0.042689     2.435808     9.607635     0.865861     0.277228   \n",
       "75%       0.061268     3.086396    14.448639     0.908557     0.478122   \n",
       "max       0.252225    34.725453  1309.612887     0.978482     0.842936   \n",
       "\n",
       "              mode     centroid      meanfun       minfun       maxfun  \\\n",
       "count  1584.000000  1584.000000  1584.000000  1584.000000  1584.000000   \n",
       "mean      0.178541     0.191000     0.169742     0.039429     0.263848   \n",
       "std       0.067175     0.029960     0.018460     0.021845     0.021529   \n",
       "min       0.000000     0.078847     0.091912     0.009775     0.163934   \n",
       "25%       0.168883     0.177031     0.157395     0.019116     0.258065   \n",
       "50%       0.193670     0.192732     0.169408     0.047013     0.274286   \n",
       "75%       0.218152     0.211981     0.181832     0.048534     0.277457   \n",
       "max       0.280000     0.251124     0.237636     0.204082     0.279114   \n",
       "\n",
       "           meandom       mindom       maxdom      dfrange      modindx  \n",
       "count  1584.000000  1584.000000  1584.000000  1584.000000  1584.000000  \n",
       "mean      0.929544     0.064987     5.736107     5.671120     0.170073  \n",
       "std       0.576884     0.072739     3.854042     3.856124     0.107639  \n",
       "min       0.007812     0.004883     0.007812     0.000000     0.000000  \n",
       "25%       0.450566     0.023438     2.560547     2.435547     0.101201  \n",
       "50%       0.867405     0.023438     6.042969     5.964844     0.138995  \n",
       "75%       1.338521     0.140625     8.607422     8.531250     0.201557  \n",
       "max       2.957682     0.449219    21.796875    21.773438     0.857764  "
      ]
     },
     "execution_count": 9,
     "metadata": {},
     "output_type": "execute_result"
    }
   ],
   "source": [
    "female.describe()"
   ]
  },
  {
   "cell_type": "markdown",
   "metadata": {},
   "source": [
    "- 1º quartil em KHz"
   ]
  },
  {
   "cell_type": "code",
   "execution_count": 10,
   "metadata": {},
   "outputs": [
    {
     "data": {
      "image/png": "[encoded data removed]",
      "text/plain": [
       "<Figure size 576x396 with 1 Axes>"
      ]
     },
     "metadata": {},
     "output_type": "display_data"
    }
   ],
   "source": [
    "labels = ['Female', 'Male']\n",
    "sns.boxplot(x = dataset['label'], y = dataset['Q25'])\n",
    "plt.xticks(range(2), labels)\n",
    "plt.xlabel(\"Label\")\n",
    "plt.ylabel(\"Q25\");"
   ]
  },
  {
   "cell_type": "markdown",
   "metadata": {},
   "source": [
    "- Planicidade Espectral"
   ]
  },
  {
   "cell_type": "code",
   "execution_count": 11,
   "metadata": {},
   "outputs": [
    {
     "data": {
      "image/png": "[encoded data removed]",
      "text/plain": [
       "<Figure size 576x396 with 1 Axes>"
      ]
     },
     "metadata": {},
     "output_type": "display_data"
    }
   ],
   "source": [
    "labels = ['Female', 'Male']\n",
    "sns.boxplot(x = dataset['label'], y = dataset['sfm'])\n",
    "plt.xticks(range(2), labels)\n",
    "plt.xlabel(\"Label\")\n",
    "plt.ylabel(\"sfm\");"
   ]
  },
  {
   "cell_type": "markdown",
   "metadata": {},
   "source": [
    "- Centróide de Frequência "
   ]
  },
  {
   "cell_type": "code",
   "execution_count": 12,
   "metadata": {},
   "outputs": [
    {
     "data": {
      "image/png": "[encoded data removed]",
      "text/plain": [
       "<Figure size 576x396 with 1 Axes>"
      ]
     },
     "metadata": {},
     "output_type": "display_data"
    }
   ],
   "source": [
    "labels = ['Female', 'Male']\n",
    "sns.boxplot(x = dataset['label'], y = dataset['centroid'])\n",
    "plt.xticks(range(2), labels)\n",
    "plt.xlabel(\"Label\")\n",
    "plt.ylabel(\"centroid\");"
   ]
  },
  {
   "cell_type": "markdown",
   "metadata": {},
   "source": [
    "- Média da Frequência dominante medida no sinal acústico"
   ]
  },
  {
   "cell_type": "code",
   "execution_count": 13,
   "metadata": {},
   "outputs": [
    {
     "data": {
      "image/png": "[encoded data removed]",
      "text/plain": [
       "<Figure size 576x396 with 1 Axes>"
      ]
     },
     "metadata": {},
     "output_type": "display_data"
    }
   ],
   "source": [
    "labels = ['Female', 'Male']\n",
    "sns.boxplot(x = dataset['label'], y = dataset['meanfun'])\n",
    "plt.xticks(range(2), labels)\n",
    "plt.xlabel(\"Label\")\n",
    "plt.ylabel(\"meanfun\");"
   ]
  },
  {
   "cell_type": "markdown",
   "metadata": {},
   "source": [
    "**ANÁLISE**:\n",
    "- Podemos ver diferenças significantes entre as vozes masculinas e femininas utilizando BoxPlot"
   ]
  },
  {
   "cell_type": "markdown",
   "metadata": {},
   "source": [
    "### 3.2. Transformando a variável target em binário"
   ]
  },
  {
   "cell_type": "code",
   "execution_count": 14,
   "metadata": {},
   "outputs": [
    {
     "data": {
      "text/html": [
       "<div>\n",
       "<style scoped>\n",
       "    .dataframe tbody tr th:only-of-type {\n",
       "        vertical-align: middle;\n",
       "    }\n",
       "\n",
       "    .dataframe tbody tr th {\n",
       "        vertical-align: top;\n",
       "    }\n",
       "\n",
       "    .dataframe thead th {\n",
       "        text-align: right;\n",
       "    }\n",
       "</style>\n",
       "<table border=\"1\" class=\"dataframe\">\n",
       "  <thead>\n",
       "    <tr style=\"text-align: right;\">\n",
       "      <th></th>\n",
       "      <th>meanfreq</th>\n",
       "      <th>sd</th>\n",
       "      <th>median</th>\n",
       "      <th>Q25</th>\n",
       "      <th>Q75</th>\n",
       "      <th>IQR</th>\n",
       "      <th>skew</th>\n",
       "      <th>kurt</th>\n",
       "      <th>sp.ent</th>\n",
       "      <th>sfm</th>\n",
       "      <th>...</th>\n",
       "      <th>meanfun</th>\n",
       "      <th>minfun</th>\n",
       "      <th>maxfun</th>\n",
       "      <th>meandom</th>\n",
       "      <th>mindom</th>\n",
       "      <th>maxdom</th>\n",
       "      <th>dfrange</th>\n",
       "      <th>modindx</th>\n",
       "      <th>label</th>\n",
       "      <th>label_cat</th>\n",
       "    </tr>\n",
       "  </thead>\n",
       "  <tbody>\n",
       "    <tr>\n",
       "      <th>1156</th>\n",
       "      <td>0.180804</td>\n",
       "      <td>0.070863</td>\n",
       "      <td>0.175456</td>\n",
       "      <td>0.128046</td>\n",
       "      <td>0.243531</td>\n",
       "      <td>0.115485</td>\n",
       "      <td>2.056474</td>\n",
       "      <td>7.450579</td>\n",
       "      <td>0.913646</td>\n",
       "      <td>0.489821</td>\n",
       "      <td>...</td>\n",
       "      <td>0.134689</td>\n",
       "      <td>0.049130</td>\n",
       "      <td>0.279070</td>\n",
       "      <td>0.533078</td>\n",
       "      <td>0.023438</td>\n",
       "      <td>3.726562</td>\n",
       "      <td>3.703125</td>\n",
       "      <td>0.099156</td>\n",
       "      <td>male</td>\n",
       "      <td>1</td>\n",
       "    </tr>\n",
       "    <tr>\n",
       "      <th>3166</th>\n",
       "      <td>0.143659</td>\n",
       "      <td>0.090628</td>\n",
       "      <td>0.184976</td>\n",
       "      <td>0.043508</td>\n",
       "      <td>0.219943</td>\n",
       "      <td>0.176435</td>\n",
       "      <td>1.591065</td>\n",
       "      <td>5.388298</td>\n",
       "      <td>0.950436</td>\n",
       "      <td>0.675470</td>\n",
       "      <td>...</td>\n",
       "      <td>0.172375</td>\n",
       "      <td>0.034483</td>\n",
       "      <td>0.250000</td>\n",
       "      <td>0.791360</td>\n",
       "      <td>0.007812</td>\n",
       "      <td>3.593750</td>\n",
       "      <td>3.585938</td>\n",
       "      <td>0.311002</td>\n",
       "      <td>female</td>\n",
       "      <td>0</td>\n",
       "    </tr>\n",
       "    <tr>\n",
       "      <th>1018</th>\n",
       "      <td>0.197688</td>\n",
       "      <td>0.056555</td>\n",
       "      <td>0.212774</td>\n",
       "      <td>0.146527</td>\n",
       "      <td>0.246061</td>\n",
       "      <td>0.099534</td>\n",
       "      <td>1.748615</td>\n",
       "      <td>6.888620</td>\n",
       "      <td>0.910723</td>\n",
       "      <td>0.286311</td>\n",
       "      <td>...</td>\n",
       "      <td>0.126432</td>\n",
       "      <td>0.047198</td>\n",
       "      <td>0.279070</td>\n",
       "      <td>0.589453</td>\n",
       "      <td>0.023438</td>\n",
       "      <td>6.187500</td>\n",
       "      <td>6.164062</td>\n",
       "      <td>0.065883</td>\n",
       "      <td>male</td>\n",
       "      <td>1</td>\n",
       "    </tr>\n",
       "    <tr>\n",
       "      <th>2149</th>\n",
       "      <td>0.197306</td>\n",
       "      <td>0.021782</td>\n",
       "      <td>0.200416</td>\n",
       "      <td>0.186343</td>\n",
       "      <td>0.212062</td>\n",
       "      <td>0.025719</td>\n",
       "      <td>2.620309</td>\n",
       "      <td>9.423510</td>\n",
       "      <td>0.771301</td>\n",
       "      <td>0.093359</td>\n",
       "      <td>...</td>\n",
       "      <td>0.185434</td>\n",
       "      <td>0.038835</td>\n",
       "      <td>0.228571</td>\n",
       "      <td>0.200721</td>\n",
       "      <td>0.164062</td>\n",
       "      <td>0.242188</td>\n",
       "      <td>0.078125</td>\n",
       "      <td>0.183333</td>\n",
       "      <td>female</td>\n",
       "      <td>0</td>\n",
       "    </tr>\n",
       "    <tr>\n",
       "      <th>1527</th>\n",
       "      <td>0.121727</td>\n",
       "      <td>0.077395</td>\n",
       "      <td>0.108819</td>\n",
       "      <td>0.053303</td>\n",
       "      <td>0.200677</td>\n",
       "      <td>0.147374</td>\n",
       "      <td>3.539520</td>\n",
       "      <td>33.242832</td>\n",
       "      <td>0.953774</td>\n",
       "      <td>0.672605</td>\n",
       "      <td>...</td>\n",
       "      <td>0.109024</td>\n",
       "      <td>0.017957</td>\n",
       "      <td>0.262295</td>\n",
       "      <td>0.080631</td>\n",
       "      <td>0.007812</td>\n",
       "      <td>0.234375</td>\n",
       "      <td>0.226562</td>\n",
       "      <td>0.187821</td>\n",
       "      <td>male</td>\n",
       "      <td>1</td>\n",
       "    </tr>\n",
       "  </tbody>\n",
       "</table>\n",
       "<p>5 rows × 22 columns</p>\n",
       "</div>"
      ],
      "text/plain": [
       "      meanfreq        sd    median       Q25       Q75       IQR      skew  \\\n",
       "1156  0.180804  0.070863  0.175456  0.128046  0.243531  0.115485  2.056474   \n",
       "3166  0.143659  0.090628  0.184976  0.043508  0.219943  0.176435  1.591065   \n",
       "1018  0.197688  0.056555  0.212774  0.146527  0.246061  0.099534  1.748615   \n",
       "2149  0.197306  0.021782  0.200416  0.186343  0.212062  0.025719  2.620309   \n",
       "1527  0.121727  0.077395  0.108819  0.053303  0.200677  0.147374  3.539520   \n",
       "\n",
       "           kurt    sp.ent       sfm  ...   meanfun    minfun    maxfun  \\\n",
       "1156   7.450579  0.913646  0.489821  ...  0.134689  0.049130  0.279070   \n",
       "3166   5.388298  0.950436  0.675470  ...  0.172375  0.034483  0.250000   \n",
       "1018   6.888620  0.910723  0.286311  ...  0.126432  0.047198  0.279070   \n",
       "2149   9.423510  0.771301  0.093359  ...  0.185434  0.038835  0.228571   \n",
       "1527  33.242832  0.953774  0.672605  ...  0.109024  0.017957  0.262295   \n",
       "\n",
       "       meandom    mindom    maxdom   dfrange   modindx   label  label_cat  \n",
       "1156  0.533078  0.023438  3.726562  3.703125  0.099156    male          1  \n",
       "3166  0.791360  0.007812  3.593750  3.585938  0.311002  female          0  \n",
       "1018  0.589453  0.023438  6.187500  6.164062  0.065883    male          1  \n",
       "2149  0.200721  0.164062  0.242188  0.078125  0.183333  female          0  \n",
       "1527  0.080631  0.007812  0.234375  0.226562  0.187821    male          1  \n",
       "\n",
       "[5 rows x 22 columns]"
      ]
     },
     "execution_count": 14,
     "metadata": {},
     "output_type": "execute_result"
    }
   ],
   "source": [
    "dataset['label_cat'] = dataset['label'].apply(lambda x: 1 if x == 'male' else 0)\n",
    "dataset.sample(5).head()"
   ]
  },
  {
   "cell_type": "markdown",
   "metadata": {},
   "source": [
    "### 3.3. Correlação entre as variáveis"
   ]
  },
  {
   "cell_type": "markdown",
   "metadata": {},
   "source": [
    "- Primeiramente, correlação não implica causalidade."
   ]
  },
  {
   "cell_type": "code",
   "execution_count": 15,
   "metadata": {},
   "outputs": [
    {
     "data": {
      "image/png": "[encoded data removed]",
      "text/plain": [
       "<Figure size 1800x1440 with 2 Axes>"
      ]
     },
     "metadata": {},
     "output_type": "display_data"
    }
   ],
   "source": [
    "plt.figure(figsize=(25, 20))\n",
    "heat_map = sns.heatmap(dataset.corr(),annot=True, linewidths=0, vmin=-1, cmap=\"RdBu_r\")\n",
    "plt.show(heat_map)"
   ]
  },
  {
   "cell_type": "markdown",
   "metadata": {},
   "source": [
    "### 3.4. Remover multicolinearidade?"
   ]
  },
  {
   "cell_type": "code",
   "execution_count": 16,
   "metadata": {},
   "outputs": [],
   "source": [
    "dataset.drop(columns=['label'], inplace = True)"
   ]
  },
  {
   "cell_type": "code",
   "execution_count": 17,
   "metadata": {},
   "outputs": [],
   "source": [
    "corr_matrix = dataset[:-1].corr().abs()\n",
    "upper = corr_matrix.where(np.triu(np.ones(corr_matrix.shape), k=1).astype(np.bool))\n",
    "to_drop = [column for column in upper.columns if any(upper[column] > 0.9)]\n",
    "dataset.drop(dataset[to_drop], axis=1, inplace=True)"
   ]
  },
  {
   "cell_type": "code",
   "execution_count": 18,
   "metadata": {},
   "outputs": [
    {
     "data": {
      "text/plain": [
       "(3168, 16)"
      ]
     },
     "execution_count": 18,
     "metadata": {},
     "output_type": "execute_result"
    }
   ],
   "source": [
    "dataset.shape"
   ]
  },
  {
   "cell_type": "markdown",
   "metadata": {},
   "source": [
    "### 3.5. Features mais importantes"
   ]
  },
  {
   "cell_type": "markdown",
   "metadata": {},
   "source": [
    "- Para analisar as features mais relevantes para detecção de Fraude, utilizamos dois algoritmos do método Ensemble para extrair as features."
   ]
  },
  {
   "cell_type": "markdown",
   "metadata": {},
   "source": [
    "#### 3.5.1. Separando feature e target."
   ]
  },
  {
   "cell_type": "code",
   "execution_count": 19,
   "metadata": {},
   "outputs": [
    {
     "data": {
      "text/html": [
       "<div>\n",
       "<style scoped>\n",
       "    .dataframe tbody tr th:only-of-type {\n",
       "        vertical-align: middle;\n",
       "    }\n",
       "\n",
       "    .dataframe tbody tr th {\n",
       "        vertical-align: top;\n",
       "    }\n",
       "\n",
       "    .dataframe thead th {\n",
       "        text-align: right;\n",
       "    }\n",
       "</style>\n",
       "<table border=\"1\" class=\"dataframe\">\n",
       "  <thead>\n",
       "    <tr style=\"text-align: right;\">\n",
       "      <th></th>\n",
       "      <th>meanfreq</th>\n",
       "      <th>sd</th>\n",
       "      <th>Q75</th>\n",
       "      <th>IQR</th>\n",
       "      <th>skew</th>\n",
       "      <th>sp.ent</th>\n",
       "      <th>sfm</th>\n",
       "      <th>mode</th>\n",
       "      <th>meanfun</th>\n",
       "      <th>minfun</th>\n",
       "      <th>maxfun</th>\n",
       "      <th>meandom</th>\n",
       "      <th>mindom</th>\n",
       "      <th>maxdom</th>\n",
       "      <th>modindx</th>\n",
       "      <th>label_cat</th>\n",
       "    </tr>\n",
       "  </thead>\n",
       "  <tbody>\n",
       "    <tr>\n",
       "      <th>0</th>\n",
       "      <td>0.059781</td>\n",
       "      <td>0.064241</td>\n",
       "      <td>0.090193</td>\n",
       "      <td>0.075122</td>\n",
       "      <td>12.863462</td>\n",
       "      <td>0.893369</td>\n",
       "      <td>0.491918</td>\n",
       "      <td>0.000000</td>\n",
       "      <td>0.084279</td>\n",
       "      <td>0.015702</td>\n",
       "      <td>0.275862</td>\n",
       "      <td>0.007812</td>\n",
       "      <td>0.007812</td>\n",
       "      <td>0.007812</td>\n",
       "      <td>0.000000</td>\n",
       "      <td>1</td>\n",
       "    </tr>\n",
       "    <tr>\n",
       "      <th>1</th>\n",
       "      <td>0.066009</td>\n",
       "      <td>0.067310</td>\n",
       "      <td>0.092666</td>\n",
       "      <td>0.073252</td>\n",
       "      <td>22.423285</td>\n",
       "      <td>0.892193</td>\n",
       "      <td>0.513724</td>\n",
       "      <td>0.000000</td>\n",
       "      <td>0.107937</td>\n",
       "      <td>0.015826</td>\n",
       "      <td>0.250000</td>\n",
       "      <td>0.009014</td>\n",
       "      <td>0.007812</td>\n",
       "      <td>0.054688</td>\n",
       "      <td>0.052632</td>\n",
       "      <td>1</td>\n",
       "    </tr>\n",
       "    <tr>\n",
       "      <th>2</th>\n",
       "      <td>0.077316</td>\n",
       "      <td>0.083829</td>\n",
       "      <td>0.131908</td>\n",
       "      <td>0.123207</td>\n",
       "      <td>30.757155</td>\n",
       "      <td>0.846389</td>\n",
       "      <td>0.478905</td>\n",
       "      <td>0.000000</td>\n",
       "      <td>0.098706</td>\n",
       "      <td>0.015656</td>\n",
       "      <td>0.271186</td>\n",
       "      <td>0.007990</td>\n",
       "      <td>0.007812</td>\n",
       "      <td>0.015625</td>\n",
       "      <td>0.046512</td>\n",
       "      <td>1</td>\n",
       "    </tr>\n",
       "    <tr>\n",
       "      <th>3</th>\n",
       "      <td>0.151228</td>\n",
       "      <td>0.072111</td>\n",
       "      <td>0.207955</td>\n",
       "      <td>0.111374</td>\n",
       "      <td>1.232831</td>\n",
       "      <td>0.963322</td>\n",
       "      <td>0.727232</td>\n",
       "      <td>0.083878</td>\n",
       "      <td>0.088965</td>\n",
       "      <td>0.017798</td>\n",
       "      <td>0.250000</td>\n",
       "      <td>0.201497</td>\n",
       "      <td>0.007812</td>\n",
       "      <td>0.562500</td>\n",
       "      <td>0.247119</td>\n",
       "      <td>1</td>\n",
       "    </tr>\n",
       "    <tr>\n",
       "      <th>4</th>\n",
       "      <td>0.135120</td>\n",
       "      <td>0.079146</td>\n",
       "      <td>0.206045</td>\n",
       "      <td>0.127325</td>\n",
       "      <td>1.101174</td>\n",
       "      <td>0.971955</td>\n",
       "      <td>0.783568</td>\n",
       "      <td>0.104261</td>\n",
       "      <td>0.106398</td>\n",
       "      <td>0.016931</td>\n",
       "      <td>0.266667</td>\n",
       "      <td>0.712812</td>\n",
       "      <td>0.007812</td>\n",
       "      <td>5.484375</td>\n",
       "      <td>0.208274</td>\n",
       "      <td>1</td>\n",
       "    </tr>\n",
       "  </tbody>\n",
       "</table>\n",
       "</div>"
      ],
      "text/plain": [
       "   meanfreq        sd       Q75       IQR       skew    sp.ent       sfm  \\\n",
       "0  0.059781  0.064241  0.090193  0.075122  12.863462  0.893369  0.491918   \n",
       "1  0.066009  0.067310  0.092666  0.073252  22.423285  0.892193  0.513724   \n",
       "2  0.077316  0.083829  0.131908  0.123207  30.757155  0.846389  0.478905   \n",
       "3  0.151228  0.072111  0.207955  0.111374   1.232831  0.963322  0.727232   \n",
       "4  0.135120  0.079146  0.206045  0.127325   1.101174  0.971955  0.783568   \n",
       "\n",
       "       mode   meanfun    minfun    maxfun   meandom    mindom    maxdom  \\\n",
       "0  0.000000  0.084279  0.015702  0.275862  0.007812  0.007812  0.007812   \n",
       "1  0.000000  0.107937  0.015826  0.250000  0.009014  0.007812  0.054688   \n",
       "2  0.000000  0.098706  0.015656  0.271186  0.007990  0.007812  0.015625   \n",
       "3  0.083878  0.088965  0.017798  0.250000  0.201497  0.007812  0.562500   \n",
       "4  0.104261  0.106398  0.016931  0.266667  0.712812  0.007812  5.484375   \n",
       "\n",
       "    modindx  label_cat  \n",
       "0  0.000000          1  \n",
       "1  0.052632          1  \n",
       "2  0.046512          1  \n",
       "3  0.247119          1  \n",
       "4  0.208274          1  "
      ]
     },
     "execution_count": 19,
     "metadata": {},
     "output_type": "execute_result"
    }
   ],
   "source": [
    "dataset.head()"
   ]
  },
  {
   "cell_type": "code",
   "execution_count": 20,
   "metadata": {},
   "outputs": [],
   "source": [
    "X = dataset.drop(columns=['label_cat'])\n",
    "y = dataset['label_cat']"
   ]
  },
  {
   "cell_type": "markdown",
   "metadata": {},
   "source": [
    "#### 3.5.2. Padronizando as features para analisar a importância real."
   ]
  },
  {
   "cell_type": "code",
   "execution_count": 21,
   "metadata": {},
   "outputs": [],
   "source": [
    "scaler = StandardScaler()\n",
    "X = scaler.fit_transform(X)"
   ]
  },
  {
   "cell_type": "markdown",
   "metadata": {},
   "source": [
    "#### 3.5.3. Criando os Algoritmos para Feature Importance"
   ]
  },
  {
   "cell_type": "code",
   "execution_count": 22,
   "metadata": {},
   "outputs": [],
   "source": [
    "random_forest_features = RandomForestClassifier(n_estimators=100, max_depth=15)\n",
    "tree_features = DecisionTreeClassifier()"
   ]
  },
  {
   "cell_type": "markdown",
   "metadata": {},
   "source": [
    "#### 3.5.4. Treinando os Algoritmos"
   ]
  },
  {
   "cell_type": "code",
   "execution_count": 23,
   "metadata": {},
   "outputs": [
    {
     "data": {
      "text/plain": [
       "DecisionTreeClassifier(ccp_alpha=0.0, class_weight=None, criterion='gini',\n",
       "                       max_depth=None, max_features=None, max_leaf_nodes=None,\n",
       "                       min_impurity_decrease=0.0, min_impurity_split=None,\n",
       "                       min_samples_leaf=1, min_samples_split=2,\n",
       "                       min_weight_fraction_leaf=0.0, presort='deprecated',\n",
       "                       random_state=None, splitter='best')"
      ]
     },
     "execution_count": 23,
     "metadata": {},
     "output_type": "execute_result"
    }
   ],
   "source": [
    "random_forest_features.fit(X, y)\n",
    "tree_features.fit(X, y)"
   ]
  },
  {
   "cell_type": "markdown",
   "metadata": {},
   "source": [
    "#### 3.5.5. Ordenando as features mais importantes"
   ]
  },
  {
   "cell_type": "code",
   "execution_count": 24,
   "metadata": {},
   "outputs": [],
   "source": [
    "random_forest_features_imp = pd.Series(random_forest_features.feature_importances_,\n",
    "                                       index = dataset.columns[:-1])\n",
    "random_forest_features_imp_order = random_forest_features_imp.sort_values()\n",
    "\n",
    "tree_features_imp = pd.Series(tree_features.feature_importances_,\n",
    "                              index = dataset.columns[:-1])\n",
    "tree_features_imp_order = tree_features_imp.sort_values()"
   ]
  },
  {
   "cell_type": "markdown",
   "metadata": {},
   "source": [
    "#### 3.5.6 Visualizando resultados das features mais importantes"
   ]
  },
  {
   "cell_type": "code",
   "execution_count": 25,
   "metadata": {},
   "outputs": [
    {
     "name": "stderr",
     "output_type": "stream",
     "text": [
      "No handles with labels found to put in legend.\n",
      "No handles with labels found to put in legend.\n"
     ]
    },
    {
     "data": {
      "image/png": "[encoded data removed]",
      "text/plain": [
       "<Figure size 1152x432 with 2 Axes>"
      ]
     },
     "metadata": {},
     "output_type": "display_data"
    }
   ],
   "source": [
    "plt.figure(figsize=[16,6])\n",
    "plt.subplot(1,2,1)\n",
    "sns.barplot(x=random_forest_features_imp_order, y = random_forest_features_imp_order.index)\n",
    "plt.xlabel(\"Features Importance\")\n",
    "plt.ylabel(\"Index\")\n",
    "plt.title(\"Feature Importance - Random Forest\")\n",
    "plt.legend()\n",
    "plt.subplot(1,2,2)\n",
    "sns.barplot(x=tree_features_imp_order, y = tree_features_imp_order.index)\n",
    "plt.xlabel(\"Features Importance\")\n",
    "plt.ylabel(\"Features\")\n",
    "plt.title(\"Feature Importance- Decision Tree\")\n",
    "plt.legend()\n",
    "plt.show()"
   ]
  },
  {
   "cell_type": "markdown",
   "metadata": {},
   "source": [
    "**ANÁLISE**:\n",
    "Entre os dois algoritmos, tivemos pouca divergência. Entretando, considerei o resultado das features mais importantes do algoritmo **Random Forest**, pois obteve considera uma maior quantidade de variáveis para tomada de decisão."
   ]
  },
  {
   "cell_type": "markdown",
   "metadata": {},
   "source": [
    "## 4. Processamento dos dados"
   ]
  },
  {
   "cell_type": "markdown",
   "metadata": {},
   "source": [
    "### 4.1. Removendo as features com menor relevância"
   ]
  },
  {
   "cell_type": "code",
   "execution_count": 26,
   "metadata": {},
   "outputs": [
    {
     "name": "stdout",
     "output_type": "stream",
     "text": [
      "Features com menor importância: ['maxfun', 'modindx', 'mindom', 'minfun', 'meandom']\n"
     ]
    }
   ],
   "source": [
    "list_features = []\n",
    "for k, v in random_forest_features_imp_order[:5].items():\n",
    "    list_features.append(k)\n",
    "    \n",
    "print(f'Features com menor importância: {list_features}')"
   ]
  },
  {
   "cell_type": "code",
   "execution_count": 27,
   "metadata": {},
   "outputs": [],
   "source": [
    "df = dataset.drop(columns=list_features)"
   ]
  },
  {
   "cell_type": "code",
   "execution_count": 28,
   "metadata": {},
   "outputs": [
    {
     "data": {
      "text/plain": [
       "(3168, 11)"
      ]
     },
     "execution_count": 28,
     "metadata": {},
     "output_type": "execute_result"
    }
   ],
   "source": [
    "df.shape"
   ]
  },
  {
   "cell_type": "markdown",
   "metadata": {},
   "source": [
    "### 5.1. Separando dados de treino e teste"
   ]
  },
  {
   "cell_type": "code",
   "execution_count": 29,
   "metadata": {},
   "outputs": [],
   "source": [
    "# df = dataset.copy()"
   ]
  },
  {
   "cell_type": "code",
   "execution_count": 30,
   "metadata": {},
   "outputs": [],
   "source": [
    "X = df.drop(columns=['label_cat'])\n",
    "y = df['label_cat']"
   ]
  },
  {
   "cell_type": "code",
   "execution_count": 31,
   "metadata": {},
   "outputs": [],
   "source": [
    "scaler = StandardScaler()\n",
    "X = scaler.fit_transform(X)"
   ]
  },
  {
   "cell_type": "code",
   "execution_count": 32,
   "metadata": {},
   "outputs": [],
   "source": [
    "X_train, X_test, y_train, y_test = train_test_split(X, y, test_size=0.3, random_state=42)"
   ]
  },
  {
   "cell_type": "markdown",
   "metadata": {},
   "source": [
    "## 6. ITS TIME!! Machine Learning"
   ]
  },
  {
   "cell_type": "markdown",
   "metadata": {},
   "source": [
    "### 6.1 Métodos Ensemble\n",
    "<img width=\"512\" height=\"312\" src=\"https://www.globalsoftwaresupport.com/wp-content/uploads/2018/02/ggff5544hh.png\" />\n",
    "Fonte: Global Software"
   ]
  },
  {
   "cell_type": "markdown",
   "metadata": {},
   "source": [
    "#### 6.1.1. Bagging (Random Forest)"
   ]
  },
  {
   "cell_type": "markdown",
   "metadata": {},
   "source": [
    "No Bagging os classificadores são treinados de forma independente por diferentes conjuntos de treinamento através do método de inicialização. Para construí-los é necessário montar k conjuntos de treinamento idênticos e replicar esses dados de treinamento de forma aleatória para construir k redes independentes por re-amostragem com reposição. Em seguida, deve-se agregar as k redes através de um método de combinação apropriada, tal como a maioria de votos (Maisa Aniceto, 2017)."
   ]
  },
  {
   "cell_type": "markdown",
   "metadata": {},
   "source": [
    "#### 6.1.2. Boosting"
   ]
  },
  {
   "cell_type": "markdown",
   "metadata": {},
   "source": [
    "No Boosting, de forma semelhante ao Bagging, cada classificador é treinado usando um conjunto de treinamento diferente. A principal diferença em relação ao Bagging é que os conjuntos de dados re-amostrados são construídos especificamente para gerar aprendizados complementares e a importância do voto é ponderado com base no desempenho de cada modelo, em vez da atribuição de mesmo peso para todos os votos. Essencialmente, esse procedimento permite aumentar o desempenho de um limiar arbitrário simplesmente adicionando learners mais fracos (Maisa Aniceto, 2017). Dada a utilidade desse achado, Boosting é considerado uma das descobertas mais significativas em aprendizado de máquina (LANTZ, 2013)."
   ]
  },
  {
   "cell_type": "markdown",
   "metadata": {},
   "source": [
    "### 6.2. Comparando acurácia de 7 modelos de classificação utilizando validação cruzada\n",
    "- Será selecionado 4 modelos para tunning de hiperparâmetros;\n",
    "- Posteriormente, será selecionado o modelo que obter as melhores métricas.\n",
    "\n"
   ]
  },
  {
   "cell_type": "code",
   "execution_count": 33,
   "metadata": {},
   "outputs": [
    {
     "name": "stdout",
     "output_type": "stream",
     "text": [
      "Nome do Modelo                | Acurácia Média  | Desvio Padrão\n",
      "Logistic Regression           :       96.8%          0.13%\n",
      "Naive Bayes                   :      93.69%          0.65%\n",
      "Decision Tree                 :      96.93%    0.16999999999999998%\n",
      "Random Forest                 : 97.92999999999999%    0.38999999999999996%\n",
      "XGB Classifier                :      97.97%          0.69%\n",
      "Gradient Boosting Classifier  : 97.78999999999999%    0.7799999999999999%\n",
      "SVM                           : 97.92999999999999%    0.27999999999999997%\n"
     ]
    }
   ],
   "source": [
    "# Definindo os valores para o número de folds\n",
    "num_folds = 3\n",
    "seed = 7\n",
    "\n",
    "modelos = []\n",
    "modelos.append((\"Logistic Regression\", LogisticRegression()))\n",
    "modelos.append(('Naive Bayes', GaussianNB()))\n",
    "modelos.append((\"Decision Tree\", DecisionTreeClassifier()))\n",
    "modelos.append((\"Random Forest\", RandomForestClassifier()))\n",
    "modelos.append((\"XGB Classifier\", XGBClassifier()))\n",
    "modelos.append((\"Gradient Boosting Classifier\", GradientBoostingClassifier()))\n",
    "modelos.append(('SVM', SVC()))\n",
    "\n",
    "# Avaliando cada modelo em um loop\n",
    "resultados = []\n",
    "nomes = []\n",
    "print(f\"{'Nome do Modelo':{30}}| {'Acurácia Média':{15}} | {'Desvio Padrão':{5}}\")\n",
    "for nome, modelo in modelos:\n",
    "    kfold = KFold(n_splits = num_folds, shuffle = True)\n",
    "    cv_results = cross_val_score(modelo, X_train, y_train, cv = kfold, scoring = 'accuracy')\n",
    "    resultados.append(cv_results)\n",
    "    nomes.append(nome)\n",
    "    print(f\"{nome:{30}}: {(np.around(cv_results.mean(), decimals=4))*100:{10}}%\\\n",
    "    {(np.around(cv_results.std(), decimals=4))*100:{10}}%\")"
   ]
  },
  {
   "cell_type": "markdown",
   "metadata": {},
   "source": [
    "**ANÁLISE**:\n",
    "    - Selecionei os seguintes modelos:\n",
    "        - SVM;\n",
    "        - Random Forest;\n",
    "        - XGB Classifier;\n",
    "        - Logistic Regression.\n",
    "\n"
   ]
  },
  {
   "cell_type": "markdown",
   "metadata": {},
   "source": [
    "### 6.3. Aplicando GridSearch para tunning e Validando com os dados de teste\n",
    "- A métrica escolhida para otimizar os hiperparâmetros foi a Acurácia, tendo em vista que o dataset é balanceado."
   ]
  },
  {
   "cell_type": "markdown",
   "metadata": {},
   "source": [
    "#### 6.3.1. Logistic Regression"
   ]
  },
  {
   "cell_type": "code",
   "execution_count": 34,
   "metadata": {
    "scrolled": true
   },
   "outputs": [
    {
     "name": "stdout",
     "output_type": "stream",
     "text": [
      "              precision    recall  f1-score   support\n",
      "\n",
      "           0       0.97      0.97      0.97       452\n",
      "           1       0.97      0.97      0.97       499\n",
      "\n",
      "    accuracy                           0.97       951\n",
      "   macro avg       0.97      0.97      0.97       951\n",
      "weighted avg       0.97      0.97      0.97       951\n",
      "\n",
      "------------------------------------------------------\n",
      "[[437  15]\n",
      " [ 13 486]]\n",
      "------------------------------------------------------\n",
      "LogisticRegression accuracy: 0.9705573080967402\n"
     ]
    }
   ],
   "source": [
    "# parâmetros da LogisticRegression\n",
    "grid_rl = {\"solver\": [\"liblinear\", \"lbfgs\"],\n",
    "           \"C\":[10, 25],\n",
    "           \"penalty\" : [\"l2\"]}\n",
    "# Criando modelo\n",
    "logistic = LogisticRegression()\n",
    "# Aplicando GridSearchCV\n",
    "clf_lr = GridSearchCV(logistic, param_grid = grid_rl, cv=5, scoring = 'accuracy', verbose=0)\n",
    "# Treinando modelo\n",
    "clf_lr.fit(X_train, y_train)\n",
    "# Fazendo predições\n",
    "y_pred_logistic = clf_lr.predict(X_test)\n",
    "# Avaliando modelo\n",
    "print(classification_report(y_test, y_pred_logistic))\n",
    "print(\"------------------------------------------------------\")\n",
    "print(confusion_matrix(y_test, y_pred_logistic))\n",
    "print(\"------------------------------------------------------\")\n",
    "print(\"LogisticRegression accuracy: {}\".format(accuracy_score(y_test, y_pred_logistic)))"
   ]
  },
  {
   "cell_type": "code",
   "execution_count": 35,
   "metadata": {},
   "outputs": [
    {
     "name": "stdout",
     "output_type": "stream",
     "text": [
      "Melhores parâmetros para o algorítmo Logistic Regression: {'C': 10, 'penalty': 'l2', 'solver': 'liblinear'}\n"
     ]
    }
   ],
   "source": [
    "print(f'Melhores parâmetros para o algorítmo Logistic Regression: {clf_lr.best_params_}')"
   ]
  },
  {
   "cell_type": "markdown",
   "metadata": {},
   "source": [
    "#### 6.3.2 SVM"
   ]
  },
  {
   "cell_type": "code",
   "execution_count": 36,
   "metadata": {},
   "outputs": [
    {
     "name": "stdout",
     "output_type": "stream",
     "text": [
      "              precision    recall  f1-score   support\n",
      "\n",
      "           0       0.97      0.98      0.98       452\n",
      "           1       0.98      0.98      0.98       499\n",
      "\n",
      "    accuracy                           0.98       951\n",
      "   macro avg       0.98      0.98      0.98       951\n",
      "weighted avg       0.98      0.98      0.98       951\n",
      "\n",
      "------------------------------------------------------\n",
      "[[444   8]\n",
      " [ 12 487]]\n",
      "------------------------------------------------------\n",
      "SVM accuracy: 0.9789695057833859\n"
     ]
    }
   ],
   "source": [
    "# parâmetros da GradientBoostingClassifier\n",
    "grid_svc = {'C': [0.1,1, 10, 100], \n",
    "            'gamma': [1,0.1,0.01,0.001],\n",
    "            'kernel': ['rbf', 'poly', 'sigmoid']\n",
    "           }\n",
    "\n",
    "# Criando modelo\n",
    "svm = SVC()\n",
    "# Aplicando GridSearchCV\n",
    "clf_svc = GridSearchCV(svm, param_grid = grid_svc, cv=5, scoring = 'accuracy', verbose=0, n_jobs=-1)\n",
    "# Treinando modelo\n",
    "clf_svc.fit(X_train, y_train)\n",
    "# Fazendo predições\n",
    "y_pred_svc = clf_svc.predict(X_test)\n",
    "# Avaliando modelo\n",
    "print(classification_report(y_test, y_pred_svc))\n",
    "print(\"------------------------------------------------------\")\n",
    "print(confusion_matrix(y_test, y_pred_svc))\n",
    "print(\"------------------------------------------------------\")\n",
    "print(\"SVM accuracy: {}\".format(accuracy_score(y_test, y_pred_svc)))"
   ]
  },
  {
   "cell_type": "code",
   "execution_count": 37,
   "metadata": {},
   "outputs": [
    {
     "name": "stdout",
     "output_type": "stream",
     "text": [
      "Melhores parâmetros para o algorítmo SVM: {'C': 10, 'gamma': 0.1, 'kernel': 'rbf'}\n"
     ]
    }
   ],
   "source": [
    "print(f'Melhores parâmetros para o algorítmo SVM: {clf_svc.best_params_}')"
   ]
  },
  {
   "cell_type": "markdown",
   "metadata": {},
   "source": [
    "#### 6.3.3. XGB Classifier"
   ]
  },
  {
   "cell_type": "code",
   "execution_count": 38,
   "metadata": {},
   "outputs": [
    {
     "name": "stdout",
     "output_type": "stream",
     "text": [
      "              precision    recall  f1-score   support\n",
      "\n",
      "           0       0.97      0.99      0.98       452\n",
      "           1       0.99      0.97      0.98       499\n",
      "\n",
      "    accuracy                           0.98       951\n",
      "   macro avg       0.98      0.98      0.98       951\n",
      "weighted avg       0.98      0.98      0.98       951\n",
      "\n",
      "------------------------------------------------------\n",
      "[[446   6]\n",
      " [ 16 483]]\n",
      "------------------------------------------------------\n",
      "XGBClassifier accuracy: 0.9768664563617245\n"
     ]
    }
   ],
   "source": [
    "# parâmetros do XGBClassifier\n",
    "grid_xgbc = { 'n_estimators': [50, 100, 200],\n",
    "              'learning_rate': [0.01, 0.15],\n",
    "              'max_depth': [15, 25, 50]}\n",
    "# Criando o modelo\n",
    "xgb = XGBClassifier()\n",
    "# Aplicando GridSearchCV\n",
    "clf_xgb = GridSearchCV(xgb, param_grid= grid_xgbc, cv=3,  scoring = 'accuracy', n_jobs = -1)\n",
    "# Treinando modelo\n",
    "clf_xgb.fit(X_train, y_train)\n",
    "# Fazendo predições\n",
    "y_pred_xgb = clf_xgb.predict(X_test)\n",
    "# Avaliando modelo\n",
    "print(classification_report(y_test, y_pred_xgb))\n",
    "print(\"------------------------------------------------------\")\n",
    "print(confusion_matrix(y_test, y_pred_xgb))\n",
    "print(\"------------------------------------------------------\")\n",
    "print(\"XGBClassifier accuracy: {}\".format(accuracy_score(y_test, y_pred_xgb)))"
   ]
  },
  {
   "cell_type": "code",
   "execution_count": 39,
   "metadata": {},
   "outputs": [
    {
     "name": "stdout",
     "output_type": "stream",
     "text": [
      "Melhores parâmetros para o algorítmo XGB: {'learning_rate': 0.15, 'max_depth': 15, 'n_estimators': 50}\n"
     ]
    }
   ],
   "source": [
    "print(f'Melhores parâmetros para o algorítmo XGB: {clf_xgb.best_params_}')"
   ]
  },
  {
   "cell_type": "markdown",
   "metadata": {},
   "source": [
    "#### 6.3.4 Random Forest Classifier"
   ]
  },
  {
   "cell_type": "code",
   "execution_count": 40,
   "metadata": {},
   "outputs": [
    {
     "name": "stdout",
     "output_type": "stream",
     "text": [
      "              precision    recall  f1-score   support\n",
      "\n",
      "           0       0.97      0.98      0.98       452\n",
      "           1       0.99      0.97      0.98       499\n",
      "\n",
      "    accuracy                           0.98       951\n",
      "   macro avg       0.98      0.98      0.98       951\n",
      "weighted avg       0.98      0.98      0.98       951\n",
      "\n",
      "------------------------------------------------------\n",
      "[[445   7]\n",
      " [ 14 485]]\n",
      "------------------------------------------------------\n",
      "RandomForestClassifier accuracy: 0.9779179810725552\n"
     ]
    }
   ],
   "source": [
    "# parâmetros da Random Forest\n",
    "grid_rf = {\n",
    "    \"n_estimators\" : [50, 100, 200],\n",
    "    \"max_depth\": [15, 25, 50],\n",
    "    \"max_features\": ['auto']\n",
    "    }\n",
    "\n",
    "# Criando modelo\n",
    "rf = RandomForestClassifier()\n",
    "# Aplicando GridSearchCV\n",
    "clf_rf = GridSearchCV(rf, param_grid = grid_rf, cv=3, scoring = 'accuracy', n_jobs = -1)\n",
    "# Treinando modelo\n",
    "clf_rf.fit(X_train, y_train)\n",
    "# Fazendo predições\n",
    "y_pred_rf = clf_rf.predict(X_test)\n",
    "# Avaliando modelo\n",
    "print(classification_report(y_test, y_pred_rf))\n",
    "print(\"------------------------------------------------------\")\n",
    "print(confusion_matrix(y_test, y_pred_rf))\n",
    "print(\"------------------------------------------------------\")\n",
    "print(\"RandomForestClassifier accuracy: {}\".format(accuracy_score(y_test, y_pred_rf)))"
   ]
  },
  {
   "cell_type": "code",
   "execution_count": 41,
   "metadata": {},
   "outputs": [
    {
     "name": "stdout",
     "output_type": "stream",
     "text": [
      "[[445   7]\n",
      " [ 14 485]]\n"
     ]
    }
   ],
   "source": [
    "print(confusion_matrix(y_test, y_pred_rf))\n"
   ]
  },
  {
   "cell_type": "code",
   "execution_count": 42,
   "metadata": {},
   "outputs": [
    {
     "name": "stdout",
     "output_type": "stream",
     "text": [
      "Melhores parâmetros para o algorítmo Random Forest: {'max_depth': 25, 'max_features': 'auto', 'n_estimators': 100}\n"
     ]
    }
   ],
   "source": [
    "print(f'Melhores parâmetros para o algorítmo Random Forest: {clf_rf.best_params_}')"
   ]
  },
  {
   "cell_type": "markdown",
   "metadata": {},
   "source": [
    "## 7. Métricas"
   ]
  },
  {
   "cell_type": "markdown",
   "metadata": {},
   "source": [
    "### 7.1. ROC AUC"
   ]
  },
  {
   "cell_type": "code",
   "execution_count": 43,
   "metadata": {},
   "outputs": [
    {
     "name": "stdout",
     "output_type": "stream",
     "text": [
      "Métrica ROC AUC:\n",
      "Logistic Regression:           97.04%\n",
      "SVM:                           97.91%\n",
      "XGB Classifier:                97.7%\n",
      "Random Forest Classifier:      97.8%\n"
     ]
    }
   ],
   "source": [
    "print(f\"Métrica ROC AUC:\\n\\\n",
    "{'Logistic Regression:':{30}} {(np.around(roc_auc_score(y_test, y_pred_logistic), decimals=4))*100}%\\n\\\n",
    "{'SVM:':{30}} {(np.around(roc_auc_score(y_test, y_pred_svc), decimals=4))*100}%\\n\\\n",
    "{'XGB Classifier:':{30}} {(np.around(roc_auc_score(y_test, y_pred_xgb), decimals=3))*100}%\\n\\\n",
    "{'Random Forest Classifier:':{30}} {(np.around(roc_auc_score(y_test, y_pred_rf), decimals=3))*100}%\")"
   ]
  },
  {
   "cell_type": "markdown",
   "metadata": {},
   "source": [
    "**ANÁLISE**:\n",
    "- Os quatro algoritmos tiverem resultados muito próximo.\n",
    "- Dessa forma, não podemos selecionar nenhum algoritmo utilizando métrica ROC AUC."
   ]
  },
  {
   "cell_type": "markdown",
   "metadata": {},
   "source": [
    "### 7.2. Precision"
   ]
  },
  {
   "cell_type": "code",
   "execution_count": 44,
   "metadata": {},
   "outputs": [
    {
     "name": "stdout",
     "output_type": "stream",
     "text": [
      "Métrica Precisão (Precision):\n",
      "Logistic Regression:           97.00999999999999%\n",
      "SVM:                           98.38%\n",
      "XGB Classifier:                98.8%\n",
      "Random Forest Classifier:      98.58%\n"
     ]
    }
   ],
   "source": [
    "print(f\"Métrica Precisão (Precision):\\n\\\n",
    "{'Logistic Regression:':{30}} {(np.around(precision_score(y_test, y_pred_logistic), decimals=4))*100}%\\n\\\n",
    "{'SVM:':{30}} {(np.around(precision_score(y_test, y_pred_svc), decimals=4))*100}%\\n\\\n",
    "{'XGB Classifier:':{30}} {(np.around(precision_score(y_test, y_pred_xgb), decimals=3))*100}%\\n\\\n",
    "{'Random Forest Classifier:':{30}} {(np.around(precision_score(y_test, y_pred_rf), decimals=4))*100}%\")"
   ]
  },
  {
   "cell_type": "markdown",
   "metadata": {},
   "source": [
    "**ANÁLISE**:\n",
    "- Os quatro algoritmos tiveram resultados muito próximos."
   ]
  },
  {
   "cell_type": "markdown",
   "metadata": {},
   "source": [
    "### 7.3. Recall"
   ]
  },
  {
   "cell_type": "code",
   "execution_count": 45,
   "metadata": {},
   "outputs": [
    {
     "name": "stdout",
     "output_type": "stream",
     "text": [
      "Métrica Revocação (Recall):\n",
      "Logistic Regression:           97.39%\n",
      "SVM:                           97.6%\n",
      "XGB Classifier:                96.8%\n",
      "Random Forest Classifier:      97.2%\n"
     ]
    }
   ],
   "source": [
    "print(f\"Métrica Revocação (Recall):\\n\\\n",
    "{'Logistic Regression:':{30}} {(np.around(recall_score(y_test, y_pred_logistic), decimals=4))*100}%\\n\\\n",
    "{'SVM:':{30}} {(np.around(recall_score(y_test, y_pred_svc), decimals=4))*100}%\\n\\\n",
    "{'XGB Classifier:':{30}} {(np.around(recall_score(y_test, y_pred_xgb), decimals=3))*100}%\\n\\\n",
    "{'Random Forest Classifier:':{30}} {(np.around(recall_score(y_test, y_pred_rf), decimals=3))*100}%\")"
   ]
  },
  {
   "cell_type": "markdown",
   "metadata": {},
   "source": [
    "**ANÁLISE**:\n",
    "- Os quatro algorítmos tiveram resultados muito próximos"
   ]
  },
  {
   "cell_type": "markdown",
   "metadata": {},
   "source": [
    "### 7.4. F1-Score"
   ]
  },
  {
   "cell_type": "code",
   "execution_count": 46,
   "metadata": {},
   "outputs": [
    {
     "name": "stdout",
     "output_type": "stream",
     "text": [
      "Métrica F1-Score:\n",
      "Logistic Regression:           97.2%\n",
      "SVM:                           98.0%\n",
      "XGB Classifier:                97.8%\n",
      "Random Forest Classifier:      97.88%\n"
     ]
    }
   ],
   "source": [
    "print(f\"Métrica F1-Score:\\n\\\n",
    "{'Logistic Regression:':{30}} {(np.around(f1_score(y_test, y_pred_logistic), decimals=4))*100}%\\n\\\n",
    "{'SVM:':{30}} {(np.around(f1_score(y_test, y_pred_svc), decimals=3))*100}%\\n\\\n",
    "{'XGB Classifier:':{30}} {(np.around(f1_score(y_test, y_pred_xgb), decimals=3))*100}%\\n\\\n",
    "{'Random Forest Classifier:':{30}} {(np.around(f1_score(y_test, y_pred_rf), decimals=4))*100}%\")"
   ]
  },
  {
   "cell_type": "markdown",
   "metadata": {},
   "source": [
    "**ANÁLISE**:\n",
    "- Os quatro algoritmos tiveram resultados muito próximos"
   ]
  },
  {
   "cell_type": "markdown",
   "metadata": {},
   "source": [
    "### 7.5. Accuracy"
   ]
  },
  {
   "cell_type": "code",
   "execution_count": 47,
   "metadata": {},
   "outputs": [
    {
     "name": "stdout",
     "output_type": "stream",
     "text": [
      "Métrica Accuracy:\n",
      "Logistic Regression:           97.06%\n",
      "SVM:                           97.89999999999999%\n",
      "XGB Classifier:                97.7%\n",
      "Random Forest Classifier:      97.8%\n"
     ]
    }
   ],
   "source": [
    "print(f\"Métrica Accuracy:\\n\\\n",
    "{'Logistic Regression:':{30}} {(np.around(accuracy_score(y_test, y_pred_logistic), decimals=4))*100}%\\n\\\n",
    "{'SVM:':{30}} {(np.around(accuracy_score(y_test, y_pred_svc), decimals=4))*100}%\\n\\\n",
    "{'XGB Classifier:':{30}} {(np.around(accuracy_score(y_test, y_pred_xgb), decimals=3))*100}%\\n\\\n",
    "{'Random Forest Classifier:':{30}} {(np.around(accuracy_score(y_test, y_pred_rf), decimals=3))*100}%\")"
   ]
  },
  {
   "cell_type": "markdown",
   "metadata": {},
   "source": [
    "## 8. Matriz de Confusão\n",
    "- Vamos analisar a matriz de confusão do algoritmo que obteve melhor desempenho."
   ]
  },
  {
   "cell_type": "code",
   "execution_count": 48,
   "metadata": {},
   "outputs": [
    {
     "data": {
      "text/plain": [
       "Text(0.5, 38.5, 'Classe Predita')"
      ]
     },
     "execution_count": 48,
     "metadata": {},
     "output_type": "execute_result"
    },
    {
     "data": {
      "image/png": "[encoded data removed]",
      "text/plain": [
       "<Figure size 864x504 with 2 Axes>"
      ]
     },
     "metadata": {},
     "output_type": "display_data"
    }
   ],
   "source": [
    "labels = ['Female', 'Male']\n",
    "fig, ax = plt.subplots(figsize=(12, 7))\n",
    "sns.heatmap(confusion_matrix(y_test, y_pred_rf), xticklabels=labels, yticklabels=labels, annot=True, fmt=\"d\");\n",
    "ax.set_title(\"Matriz de Confusão - Random Forest\", fontsize=20)\n",
    "ax.set_ylabel('Classe Verdadeira', fontsize=15)\n",
    "ax.set_xlabel('Classe Predita', fontsize=15)"
   ]
  },
  {
   "cell_type": "markdown",
   "metadata": {},
   "source": [
    "# CONCLUSÃO"
   ]
  },
  {
   "cell_type": "markdown",
   "metadata": {},
   "source": [
    "**ANÁLISE**:\n",
    "\n",
    "- A comparação dos resultados dos algorítmos são muito próximos. Podemos concluir que esse é um problema relativamente fácil de resolver. As vozes masculinas e femininas possuem características muito distintas.\n",
    "- O SVM obteve a melhor performace utilizando a métrica de Acurácia (devido ao fato do dataset ser balanceado e pré processado).\n",
    "- Entretanto, os algorítmos do método ensamble ficaram com valores muito próximos ao do SVM"
   ]
  },
  {
   "cell_type": "markdown",
   "metadata": {},
   "source": [
    "https://www.kaggle.com/rajmehra03/a-complete-tutorial-onpredictive-modeling-acc-99"
   ]
  }
 ],
 "metadata": {
  "kernelspec": {
   "display_name": "Python 3",
   "language": "python",
   "name": "python3"
  },
  "language_info": {
   "codemirror_mode": {
    "name": "ipython",
    "version": 3
   },
   "file_extension": ".py",
   "mimetype": "text/x-python",
   "name": "python",
   "nbconvert_exporter": "python",
   "pygments_lexer": "ipython3",
   "version": "3.6.10"
  }
 },
 "nbformat": 4,
 "nbformat_minor": 4
}
